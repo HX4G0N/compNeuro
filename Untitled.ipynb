{
 "cells": [
  {
   "cell_type": "code",
   "execution_count": 3,
   "metadata": {},
   "outputs": [],
   "source": [
    "import numpy as np\n",
    "import seaborn as sns\n",
    "from neurons import hodgkin_huxley\n",
    "from pylab import *\n",
    "sns.set_style('white')\n",
    "sns.set_context('notebook')\n",
    "%matplotlib inline"
   ]
  },
  {
   "cell_type": "code",
   "execution_count": null,
   "metadata": {
    "collapsed": true
   },
   "outputs": [],
   "source": [
    "import scipy.signal\n",
    "\n",
    "dt = 0.01\n",
    "nb_timesteps = 10000\n",
    "nb_neurons = 1\n",
    "\n",
    "tt = np.linspace(0,dt*nb_timesteps,nb_timesteps)\n",
    "I = np.zeros((nb_timesteps, nb_neurons))\n",
    "I[nb_timesteps//10:nb_timesteps//10*9] = 20\n",
    "\n",
    "u, gating_params = hodgkin_huxley(tt, I)\n",
    "plot(tt, u[:, 0])\n",
    "xlabel(\"Time [ms]\")\n",
    "ylabel(\"Voltage [mV]\")\n",
    "title('Hodgkin Huxley')\n",
    "ylim([-80,50])\n",
    "\n",
    "show()"
   ]
  }
 ],
 "metadata": {
  "kernelspec": {
   "display_name": "Python 3",
   "language": "python",
   "name": "python3"
  },
  "language_info": {
   "codemirror_mode": {
    "name": "ipython",
    "version": 3
   },
   "file_extension": ".py",
   "mimetype": "text/x-python",
   "name": "python",
   "nbconvert_exporter": "python",
   "pygments_lexer": "ipython3",
   "version": "3.6.3"
  }
 },
 "nbformat": 4,
 "nbformat_minor": 2
}
