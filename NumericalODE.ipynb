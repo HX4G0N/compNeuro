{
 "cells": [
  {
   "cell_type": "code",
   "execution_count": null,
   "metadata": {
    "collapsed": true
   },
   "outputs": [],
   "source": [
    "import numpy as np\n",
    "import matplotlib.pyplot as plt\n",
    "%matplotlib inline"
   ]
  },
  {
   "cell_type": "code",
   "execution_count": null,
   "metadata": {
    "collapsed": true
   },
   "outputs": [],
   "source": [
    "def analytic_tc(t):\n",
    "    A = 60 \n",
    "    Tr = 20\n",
    "    C = 1000 #J/K\n",
    "    K = 2 #W/K\n",
    "    Tc = (A * np.exp(-(K/C) * t)) + Tr\n",
    "    return Tc  "
   ]
  },
  {
   "cell_type": "code",
   "execution_count": null,
   "metadata": {},
   "outputs": [],
   "source": [
    "t = np.array([0, 1])\n",
    "cool_rate = analytic_tc(t)\n",
    "print(cool_rate)"
   ]
  },
  {
   "cell_type": "code",
   "execution_count": null,
   "metadata": {},
   "outputs": [],
   "source": [
    "cooling_rate = (cool_rate[1] - cool_rate[0]) / (t[1] - t[0])\n",
    "print(cooling_rate)"
   ]
  },
  {
   "cell_type": "code",
   "execution_count": null,
   "metadata": {
    "collapsed": true
   },
   "outputs": [],
   "source": [
    "def dTc(t, Tc, K=2):\n",
    "    Tr = 20\n",
    "    C = 1000\n",
    "    dtcdt = (K/C) * (Tr - Tc)\n",
    "    return dtcdt"
   ]
  },
  {
   "cell_type": "code",
   "execution_count": null,
   "metadata": {},
   "outputs": [],
   "source": [
    "timestep = 0.1\n",
    "tt = np.arange(0, 3000, timestep)\n",
    "tc = np.empty_like(tt)\n",
    "tc[0] = 80\n",
    "Tr = 20 \n",
    "for i in range(1, len(tt)):\n",
    "    dt = tt[i] - tt[i - 1]\n",
    "    dtcdt = dTc(tt[i - 1], tc[i - 1])\n",
    "    tc[i] = tc[i - 1] + dtcdt * dt\n",
    "    print(tc[i])"
   ]
  },
  {
   "cell_type": "code",
   "execution_count": null,
   "metadata": {},
   "outputs": [],
   "source": [
    "plt.figure()\n",
    "plt.plot(tt, tc, 'b')\n",
    "plt.xlabel('t')\n",
    "plt.ylabel('tcoffee')\n",
    "plt.title('Solution of ODE')"
   ]
  },
  {
   "cell_type": "code",
   "execution_count": null,
   "metadata": {},
   "outputs": [],
   "source": [
    "timestep2 = 1e2\n",
    "tt2 = np.arange(0, 3000, timestep2)\n",
    "tc2 = np.empty_like(tt2)\n",
    "tc2[0] = 80\n",
    "Tr = 20 \n",
    "for i in range(1, len(tt2)):\n",
    "    dt2 = tt2[i] - tt2[i - 1]\n",
    "    dtcdt2 = dTc(tt2[i - 1], tc2[i - 1])\n",
    "    tc2[i] = tc2[i - 1] + dtcdt2 * dt2\n",
    "    print(tc2[i])"
   ]
  },
  {
   "cell_type": "code",
   "execution_count": null,
   "metadata": {},
   "outputs": [],
   "source": [
    "plt.figure()\n",
    "plt.plot(tt2, tc2, 'r')\n",
    "plt.plot(tt, tc, 'b')\n",
    "plt.xlabel('t')\n",
    "plt.ylabel('tcoffee')\n",
    "plt.title('Solution of ODE')"
   ]
  },
  {
   "cell_type": "code",
   "execution_count": null,
   "metadata": {},
   "outputs": [],
   "source": [
    "slope = (tc[1] - tc[0]) / dt\n",
    "slope2 = (tc2[1] - tc2[0]) / dt2\n",
    "line = lambda t: slope*t + tc[0]\n",
    "line2 = lambda t: slope2*t + tc2[0]\n",
    "time_constant1 = line(tt[0:10000])\n",
    "time_constant2 = line2(tt2[0:10])\n",
    "tau = -tc[0] / slope\n",
    "tau2 = -tc2[0] / slope2\n",
    "\n",
    "plt.figure()\n",
    "plt.plot(tt2, tc2, 'r')\n",
    "plt.plot(tt[0:10000], time_constant1, 'g')\n",
    "plt.plot(tt, tc, 'b')\n",
    "plt.plot(tt2[0:10], time_constant2, 'y')\n",
    "plt.xlabel('t')\n",
    "plt.ylabel('tcoffee')\n",
    "plt.title('Solution of ODE')\n",
    "\n",
    "print(tau)\n",
    "print(tau2)"
   ]
  },
  {
   "cell_type": "code",
   "execution_count": null,
   "metadata": {},
   "outputs": [],
   "source": [
    "timestep = float(100)\n",
    "tt = np.arange(0, 20000, timestep)\n",
    "tc = np.empty_like(tt)\n",
    "tc[0] = 80\n",
    "Tr = 20 \n",
    "for i in range(1, len(tt)):\n",
    "    dt = tt[i] - tt[i - 1]\n",
    "    dtcdt = dTc(tt[i - 1], tc[i - 1], 0.2)\n",
    "    tc[i] = tc[i - 1] + dtcdt * dt\n",
    "    print(tc[i])"
   ]
  },
  {
   "cell_type": "code",
   "execution_count": null,
   "metadata": {},
   "outputs": [],
   "source": [
    "plt.figure()\n",
    "plt.plot(tt, tc, 'b')\n",
    "plt.xlabel('t')\n",
    "plt.ylabel('tcoffee')\n",
    "plt.title('Solution of ODE')"
   ]
  }
 ],
 "metadata": {
  "kernelspec": {
   "display_name": "Python 3",
   "language": "python",
   "name": "python3"
  },
  "language_info": {
   "codemirror_mode": {
    "name": "ipython",
    "version": 3
   },
   "file_extension": ".py",
   "mimetype": "text/x-python",
   "name": "python",
   "nbconvert_exporter": "python",
   "pygments_lexer": "ipython3",
   "version": "3.6.3"
  }
 },
 "nbformat": 4,
 "nbformat_minor": 2
}
